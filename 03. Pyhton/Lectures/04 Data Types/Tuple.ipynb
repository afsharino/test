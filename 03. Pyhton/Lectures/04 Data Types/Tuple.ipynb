{
 "cells": [
  {
   "cell_type": "markdown",
   "id": "e0217689",
   "metadata": {},
   "source": [
    "<img src=\"../../../images/python/data types/collection/collection1.webp\" width=\"800\">"
   ]
  },
  {
   "cell_type": "markdown",
   "id": "d682f0b0",
   "metadata": {},
   "source": [
    "# Tuple in python"
   ]
  },
  {
   "cell_type": "markdown",
   "id": "bf331e85",
   "metadata": {},
   "source": [
    "Greetings, everyone! In our last session, we delved into the intricacies of Python lists, exploring their versatility, dynamics, and a wide range of operations available. We covered key concepts such as slicing, indexing, handling nested lists, and detailed various list methods like `.index()`, `.sort()`. Additionally, we discussed the nuances of shallow and deep copying."
   ]
  },
  {
   "cell_type": "markdown",
   "id": "4b6f173e",
   "metadata": {},
   "source": [
    "In this lecture, our focus shifts to another essential Python data structure the tuple. At first glance, tuples may appear similar to lists with their ordered arrangement and capacity to hold diverse objects. However, as we'll explore, tuples introduce distinctive characteristics and use cases."
   ]
  },
  {
   "cell_type": "markdown",
   "id": "1764ea4f",
   "metadata": {},
   "source": [
    "Tuples are often described as unchangeable(immutable) lists. In practical terms, while lists allow dynamic modifications, additions, or removals, tuples remain static and retain their initial state once established. This immutability proves valuable in certain situations, making tuples a preferred choice for collections that should remain fixed."
   ]
  },
  {
   "cell_type": "markdown",
   "id": "f07c46d9",
   "metadata": {},
   "source": [
    "In today's lecture, you'll discover the art of creating and accessing tuple elements, gaining a deeper understanding of their inherent immutability and its implications. We'll explore key operations specific to tuples, drawing comparisons and distinctions with our well-acquainted companions, the lists."
   ]
  },
  {
   "cell_type": "markdown",
   "id": "d0020395",
   "metadata": {},
   "source": [
    "## Creating Tuple"
   ]
  },
  {
   "cell_type": "markdown",
   "id": "cbfa980b",
   "metadata": {},
   "source": [
    "class tuple([iterable]): \n",
    "\n",
    "Tuples may be constructed in a number of ways:\n",
    "\n",
    "- Using a pair of parentheses to denote the empty tuple: ()\n",
    "\n",
    "- Using a trailing comma for a singleton tuple: a, or (a,)\n",
    "\n",
    "- Separating items with commas: a, b, c or (a, b, c)\n",
    "\n",
    "- Using the tuple() built-in: tuple() or tuple(iterable)\n",
    "\n",
    " \n",
    "\n",
    "Note that it is actually the comma which makes a tuple, not the parentheses. The parentheses are optional, except in the empty tuple case, or when they are needed to avoid syntactic ambiguity. For example, f(a, b, c) is a function call with three arguments, while f((a, b, c)) is a function call with a 3-tuple as the sole argument."
   ]
  },
  {
   "cell_type": "code",
   "execution_count": 1,
   "id": "24dad660",
   "metadata": {},
   "outputs": [
    {
     "data": {
      "text/plain": [
       "(1, 2, 3)"
      ]
     },
     "execution_count": 1,
     "metadata": {},
     "output_type": "execute_result"
    }
   ],
   "source": [
    "# A tuple with homogeneous items - with parentheses\n",
    "(1, 2, 3)"
   ]
  },
  {
   "cell_type": "code",
   "execution_count": 2,
   "id": "316aaa93",
   "metadata": {},
   "outputs": [
    {
     "data": {
      "text/plain": [
       "(1, 2, 3)"
      ]
     },
     "execution_count": 2,
     "metadata": {},
     "output_type": "execute_result"
    }
   ],
   "source": [
    "# A tuple with homogeneous items - without parentheses\n",
    "comma_seperated_tuple = 1, 2, 3\n",
    "comma_seperated_tuple"
   ]
  },
  {
   "cell_type": "code",
   "execution_count": 2,
   "id": "81b56d65",
   "metadata": {},
   "outputs": [
    {
     "data": {
      "text/plain": [
       "1"
      ]
     },
     "execution_count": 2,
     "metadata": {},
     "output_type": "execute_result"
    }
   ],
   "source": [
    "# Tuple unpacking\n",
    "num1, num2, num3 = 1, 2, 3\n",
    "num1"
   ]
  },
  {
   "cell_type": "code",
   "execution_count": 21,
   "id": "469583d3",
   "metadata": {},
   "outputs": [
    {
     "data": {
      "text/plain": [
       "(2.0,\n",
       " 'hello',\n",
       " 50,\n",
       " True,\n",
       " <module 'math' from '/home/afsharino/anaconda3/envs/CI/lib/python3.11/lib-dynload/math.cpython-311-x86_64-linux-gnu.so'>,\n",
       " <function __main__.mixed()>)"
      ]
     },
     "execution_count": 21,
     "metadata": {},
     "output_type": "execute_result"
    }
   ],
   "source": [
    "# A tuple with mixed data types - with parentheses\n",
    "def mixed():\n",
    "    pass\n",
    "\n",
    "import math\n",
    "\n",
    "a = 2.0\n",
    "b = 'hello'\n",
    "c = 50\n",
    "\n",
    "(a, b, c, True, math, mixed)"
   ]
  },
  {
   "cell_type": "code",
   "execution_count": 4,
   "id": "d59ea9b5",
   "metadata": {},
   "outputs": [
    {
     "data": {
      "text/plain": [
       "<generator object <genexpr> at 0x7f8c338781e0>"
      ]
     },
     "execution_count": 4,
     "metadata": {},
     "output_type": "execute_result"
    }
   ],
   "source": [
    "(x for x in (1, 2, 3))"
   ]
  },
  {
   "cell_type": "markdown",
   "id": "6e0e1ad7",
   "metadata": {},
   "source": [
    "[more information on tuple comprehension](https://stackoverflow.com/questions/16940293/why-is-there-no-tuple-comprehension-in-python)"
   ]
  },
  {
   "cell_type": "code",
   "execution_count": 5,
   "id": "4dc6ba53",
   "metadata": {},
   "outputs": [
    {
     "data": {
      "text/plain": [
       "(2.0,)"
      ]
     },
     "execution_count": 5,
     "metadata": {},
     "output_type": "execute_result"
    }
   ],
   "source": [
    "a,"
   ]
  },
  {
   "cell_type": "code",
   "execution_count": 6,
   "id": "6b998541",
   "metadata": {},
   "outputs": [
    {
     "data": {
      "text/plain": [
       "(2.0,)"
      ]
     },
     "execution_count": 6,
     "metadata": {},
     "output_type": "execute_result"
    }
   ],
   "source": [
    "(a,)"
   ]
  },
  {
   "cell_type": "code",
   "execution_count": 7,
   "id": "601c32aa",
   "metadata": {},
   "outputs": [
    {
     "data": {
      "text/plain": [
       "2.0"
      ]
     },
     "execution_count": 7,
     "metadata": {},
     "output_type": "execute_result"
    }
   ],
   "source": [
    "(a)"
   ]
  },
  {
   "cell_type": "code",
   "execution_count": 8,
   "id": "ccc18560",
   "metadata": {},
   "outputs": [
    {
     "data": {
      "text/plain": [
       "(1, 2, 3)"
      ]
     },
     "execution_count": 8,
     "metadata": {},
     "output_type": "execute_result"
    }
   ],
   "source": [
    "# using tuple constructor - tuple as iterable\n",
    "tuple((1, 2, 3))"
   ]
  },
  {
   "cell_type": "code",
   "execution_count": 9,
   "id": "c9701fda",
   "metadata": {},
   "outputs": [
    {
     "data": {
      "text/plain": [
       "(0, 1, 2, 3, 4)"
      ]
     },
     "execution_count": 9,
     "metadata": {},
     "output_type": "execute_result"
    }
   ],
   "source": [
    "# using tuple constructor - range as iterable\n",
    "range_tuple = tuple(range(5))\n",
    "range_tuple"
   ]
  },
  {
   "cell_type": "markdown",
   "id": "743bc949",
   "metadata": {},
   "source": [
    "The constructor builds a tuple whose items are the same and in the same order as iterable’s items. iterable may be either a sequence, a container that supports iteration, or an iterator object. If iterable is already a tuple, it is returned unchanged. For example, tuple('abc') returns ('a', 'b', 'c') and tuple( [1, 2, 3] ) returns (1, 2, 3)."
   ]
  },
  {
   "cell_type": "code",
   "execution_count": 10,
   "id": "5510cedc",
   "metadata": {},
   "outputs": [
    {
     "data": {
      "text/plain": [
       "('a', 'b', 'c')"
      ]
     },
     "execution_count": 10,
     "metadata": {},
     "output_type": "execute_result"
    }
   ],
   "source": [
    "tuple('abc')"
   ]
  },
  {
   "cell_type": "code",
   "execution_count": 11,
   "id": "3de1de26",
   "metadata": {},
   "outputs": [
    {
     "data": {
      "text/plain": [
       "(1, 2, 3)"
      ]
     },
     "execution_count": 11,
     "metadata": {},
     "output_type": "execute_result"
    }
   ],
   "source": [
    "tuple( [1, 2, 3] ) "
   ]
  },
  {
   "cell_type": "markdown",
   "id": "73786ae9",
   "metadata": {},
   "source": [
    "If no argument is given, the constructor creates a new empty tuple, ()."
   ]
  },
  {
   "cell_type": "code",
   "execution_count": 12,
   "id": "7fcbb453",
   "metadata": {},
   "outputs": [
    {
     "data": {
      "text/plain": [
       "()"
      ]
     },
     "execution_count": 12,
     "metadata": {},
     "output_type": "execute_result"
    }
   ],
   "source": [
    "tuple()"
   ]
  },
  {
   "cell_type": "code",
   "execution_count": 13,
   "id": "d22604e4",
   "metadata": {},
   "outputs": [
    {
     "data": {
      "text/plain": [
       "()"
      ]
     },
     "execution_count": 13,
     "metadata": {},
     "output_type": "execute_result"
    }
   ],
   "source": [
    "()"
   ]
  },
  {
   "cell_type": "code",
   "execution_count": 14,
   "id": "3cef470f",
   "metadata": {},
   "outputs": [
    {
     "data": {
      "text/plain": [
       "tuple"
      ]
     },
     "execution_count": 14,
     "metadata": {},
     "output_type": "execute_result"
    }
   ],
   "source": [
    "type(())"
   ]
  },
  {
   "cell_type": "code",
   "execution_count": 15,
   "id": "ae88da11",
   "metadata": {},
   "outputs": [
    {
     "data": {
      "text/plain": [
       "(1, 2, 3, (4, 5), (6, 7, (8, 9)))"
      ]
     },
     "execution_count": 15,
     "metadata": {},
     "output_type": "execute_result"
    }
   ],
   "source": [
    "nested_tuple = (1, 2, 3, (4, 5), (6, 7, (8, 9)))\n",
    "nested_tuple"
   ]
  },
  {
   "cell_type": "markdown",
   "id": "9db1d6cc",
   "metadata": {},
   "source": [
    "## Exercise"
   ]
  },
  {
   "cell_type": "markdown",
   "id": "671b9db2",
   "metadata": {},
   "source": [
    "Write a program to swap two tuple with each other"
   ]
  },
  {
   "cell_type": "code",
   "execution_count": 1,
   "id": "246f81dd",
   "metadata": {},
   "outputs": [],
   "source": [
    "# your anwer here"
   ]
  },
  {
   "cell_type": "markdown",
   "id": "81828413",
   "metadata": {},
   "source": [
    "Write a program to convert a given list of tuples to a list of lists."
   ]
  },
  {
   "cell_type": "code",
   "execution_count": 18,
   "id": "95a8f8e4",
   "metadata": {},
   "outputs": [],
   "source": [
    "# your anwer here"
   ]
  },
  {
   "cell_type": "markdown",
   "id": "96196459",
   "metadata": {},
   "source": [
    "## Common Built-in Functions"
   ]
  },
  {
   "cell_type": "code",
   "execution_count": 16,
   "id": "0afb25cc",
   "metadata": {},
   "outputs": [
    {
     "data": {
      "text/plain": [
       "5"
      ]
     },
     "execution_count": 16,
     "metadata": {},
     "output_type": "execute_result"
    }
   ],
   "source": [
    "len(range_tuple)"
   ]
  },
  {
   "cell_type": "code",
   "execution_count": 17,
   "id": "e660f691",
   "metadata": {},
   "outputs": [
    {
     "data": {
      "text/plain": [
       "4"
      ]
     },
     "execution_count": 17,
     "metadata": {},
     "output_type": "execute_result"
    }
   ],
   "source": [
    "max(range_tuple)"
   ]
  },
  {
   "cell_type": "code",
   "execution_count": 18,
   "id": "23dffd90",
   "metadata": {},
   "outputs": [
    {
     "data": {
      "text/plain": [
       "0"
      ]
     },
     "execution_count": 18,
     "metadata": {},
     "output_type": "execute_result"
    }
   ],
   "source": [
    "min(range_tuple)"
   ]
  },
  {
   "cell_type": "markdown",
   "id": "d143fdc7",
   "metadata": {},
   "source": [
    "## Exercise"
   ]
  },
  {
   "cell_type": "markdown",
   "id": "eeace2f3",
   "metadata": {},
   "source": [
    "Write a program to calculate the average value of the inner tuples in a give tuple of tuples."
   ]
  },
  {
   "cell_type": "code",
   "execution_count": 2,
   "id": "d473ef2a",
   "metadata": {},
   "outputs": [],
   "source": [
    "# your anwer here"
   ]
  },
  {
   "cell_type": "markdown",
   "id": "a9beadf2",
   "metadata": {},
   "source": [
    "## Accessing Tuple Elements"
   ]
  },
  {
   "cell_type": "markdown",
   "id": "ec59ab5f",
   "metadata": {},
   "source": [
    "### Accessing Elements Using Indexing"
   ]
  },
  {
   "cell_type": "markdown",
   "id": "50a23ec2",
   "metadata": {},
   "source": [
    "<img src=\"../../../images/python/data types/list/indexing.webp\" width=\"800\">"
   ]
  },
  {
   "cell_type": "code",
   "execution_count": 19,
   "id": "05b73835",
   "metadata": {},
   "outputs": [
    {
     "data": {
      "text/plain": [
       "('foo', 'bar', 'baz', 'qux', 'quux', 'corge')"
      ]
     },
     "execution_count": 19,
     "metadata": {},
     "output_type": "execute_result"
    }
   ],
   "source": [
    "sample_tuple = ('foo', 'bar', 'baz', 'qux', 'quux', 'corge')\n",
    "sample_tuple"
   ]
  },
  {
   "cell_type": "code",
   "execution_count": 20,
   "id": "be8eee03",
   "metadata": {},
   "outputs": [
    {
     "data": {
      "text/plain": [
       "('foo', 'foo')"
      ]
     },
     "execution_count": 20,
     "metadata": {},
     "output_type": "execute_result"
    }
   ],
   "source": [
    "sample_tuple[0], sample_tuple[-6]"
   ]
  },
  {
   "cell_type": "code",
   "execution_count": 21,
   "id": "3fb5d5c0",
   "metadata": {},
   "outputs": [
    {
     "data": {
      "text/plain": [
       "'baz'"
      ]
     },
     "execution_count": 21,
     "metadata": {},
     "output_type": "execute_result"
    }
   ],
   "source": [
    "sample_tuple[2]"
   ]
  },
  {
   "cell_type": "markdown",
   "id": "49247971",
   "metadata": {},
   "source": [
    "### Accessing Elements Using Slicing"
   ]
  },
  {
   "cell_type": "code",
   "execution_count": 22,
   "id": "968e60be",
   "metadata": {},
   "outputs": [
    {
     "data": {
      "text/plain": [
       "()"
      ]
     },
     "execution_count": 22,
     "metadata": {},
     "output_type": "execute_result"
    }
   ],
   "source": [
    "# stop < start\n",
    "sample_tuple[-1:-4]"
   ]
  },
  {
   "cell_type": "code",
   "execution_count": 23,
   "id": "c6852111",
   "metadata": {},
   "outputs": [
    {
     "data": {
      "text/plain": [
       "('foo', 'bar')"
      ]
     },
     "execution_count": 23,
     "metadata": {},
     "output_type": "execute_result"
    }
   ],
   "source": [
    "# start < stop\n",
    "sample_tuple[-6:-4]"
   ]
  },
  {
   "cell_type": "code",
   "execution_count": 24,
   "id": "706690d4",
   "metadata": {},
   "outputs": [
    {
     "data": {
      "text/plain": [
       "('corge', 'quux', 'qux')"
      ]
     },
     "execution_count": 24,
     "metadata": {},
     "output_type": "execute_result"
    }
   ],
   "source": [
    "# iterate in reverse order\n",
    "sample_tuple[-1:2:-1]"
   ]
  },
  {
   "cell_type": "code",
   "execution_count": 25,
   "id": "750f93bd",
   "metadata": {},
   "outputs": [
    {
     "data": {
      "text/plain": [
       "('corge', 'quux', 'qux', 'baz', 'bar', 'foo')"
      ]
     },
     "execution_count": 25,
     "metadata": {},
     "output_type": "execute_result"
    }
   ],
   "source": [
    "# Reverse tuple\n",
    "sample_tuple[::-1]"
   ]
  },
  {
   "cell_type": "code",
   "execution_count": 26,
   "id": "eeefa30a",
   "metadata": {},
   "outputs": [
    {
     "data": {
      "text/plain": [
       "('foo', 'bar', 'baz', 'qux', 'quux')"
      ]
     },
     "execution_count": 26,
     "metadata": {},
     "output_type": "execute_result"
    }
   ],
   "source": [
    "# start: inclusive, stop: exclusive\n",
    "sample_tuple[:5]"
   ]
  },
  {
   "cell_type": "markdown",
   "id": "32d50c7a",
   "metadata": {},
   "source": [
    "### Accessing Nested Lists"
   ]
  },
  {
   "cell_type": "code",
   "execution_count": 27,
   "id": "f5ae7b13",
   "metadata": {},
   "outputs": [
    {
     "name": "stdout",
     "output_type": "stream",
     "text": [
      "(1, 2, 3, (4, 5), (6, 7, (8, 9)))\n"
     ]
    }
   ],
   "source": [
    "print(nested_tuple)"
   ]
  },
  {
   "cell_type": "code",
   "execution_count": 28,
   "id": "68967532",
   "metadata": {},
   "outputs": [
    {
     "data": {
      "text/plain": [
       "(8, 9)"
      ]
     },
     "execution_count": 28,
     "metadata": {},
     "output_type": "execute_result"
    }
   ],
   "source": [
    "nested_tuple[4][2]"
   ]
  },
  {
   "cell_type": "markdown",
   "id": "56a619bb",
   "metadata": {},
   "source": [
    "## Update Elements"
   ]
  },
  {
   "cell_type": "markdown",
   "id": "aa4ad643",
   "metadata": {},
   "source": [
    "One significant distinction to remember is, unlike lists, you cannot change the elements of a tuple after it is defined. Attempting to do so will result in a `TypeError`."
   ]
  },
  {
   "cell_type": "code",
   "execution_count": 29,
   "id": "1ccc622a",
   "metadata": {},
   "outputs": [
    {
     "name": "stdout",
     "output_type": "stream",
     "text": [
      "('foo', 'bar', 'baz', 'qux', 'quux', 'corge')\n"
     ]
    },
    {
     "ename": "TypeError",
     "evalue": "'tuple' object does not support item assignment",
     "output_type": "error",
     "traceback": [
      "\u001b[0;31m---------------------------------------------------------------------------\u001b[0m",
      "\u001b[0;31mTypeError\u001b[0m                                 Traceback (most recent call last)",
      "Cell \u001b[0;32mIn[29], line 2\u001b[0m\n\u001b[1;32m      1\u001b[0m \u001b[38;5;28mprint\u001b[39m(sample_tuple)\n\u001b[0;32m----> 2\u001b[0m sample_tuple[\u001b[38;5;241m2\u001b[39m] \u001b[38;5;241m=\u001b[39m \u001b[38;5;124m'\u001b[39m\u001b[38;5;124mpython\u001b[39m\u001b[38;5;124m'\u001b[39m\n\u001b[1;32m      3\u001b[0m sample_tuple\n",
      "\u001b[0;31mTypeError\u001b[0m: 'tuple' object does not support item assignment"
     ]
    }
   ],
   "source": [
    "print(sample_tuple)\n",
    "sample_tuple[2] = 'python'\n",
    "sample_tuple"
   ]
  },
  {
   "cell_type": "markdown",
   "id": "d3ac9481",
   "metadata": {},
   "source": [
    "In Python, tuples are synonymous with immutability, signifying that once a tuple is created, its contents remain unchangeable, immune to additions or removals. This characteristic sets tuples apart from lists, providing an added layer of data protection and integrity to your programs."
   ]
  },
  {
   "cell_type": "code",
   "execution_count": 30,
   "id": "0b32a86c",
   "metadata": {},
   "outputs": [],
   "source": [
    "my_info = (\"Jane Doe\", \"123 Elm Street\", 28)"
   ]
  },
  {
   "cell_type": "code",
   "execution_count": 31,
   "id": "c5b986bf",
   "metadata": {},
   "outputs": [
    {
     "ename": "TypeError",
     "evalue": "'tuple' object does not support item assignment",
     "output_type": "error",
     "traceback": [
      "\u001b[0;31m---------------------------------------------------------------------------\u001b[0m",
      "\u001b[0;31mTypeError\u001b[0m                                 Traceback (most recent call last)",
      "Cell \u001b[0;32mIn[31], line 1\u001b[0m\n\u001b[0;32m----> 1\u001b[0m my_info[\u001b[38;5;241m2\u001b[39m] \u001b[38;5;241m=\u001b[39m \u001b[38;5;241m29\u001b[39m\n",
      "\u001b[0;31mTypeError\u001b[0m: 'tuple' object does not support item assignment"
     ]
    }
   ],
   "source": [
    "my_info[2] = 29  # Raises a TypeError"
   ]
  },
  {
   "cell_type": "code",
   "execution_count": 32,
   "id": "84c2bee9",
   "metadata": {},
   "outputs": [
    {
     "data": {
      "text/plain": [
       "('Jane Doe', '123 Elm Street', 29)"
      ]
     },
     "execution_count": 32,
     "metadata": {},
     "output_type": "execute_result"
    }
   ],
   "source": [
    "my_info[:2] + (29,)"
   ]
  },
  {
   "cell_type": "markdown",
   "id": "b2cafd59",
   "metadata": {},
   "source": [
    "so due to the immiutabilty add, remove is not availabe"
   ]
  },
  {
   "cell_type": "markdown",
   "id": "34ece7f0",
   "metadata": {},
   "source": [
    "## Exercise"
   ]
  },
  {
   "cell_type": "markdown",
   "id": "752b9b4a",
   "metadata": {},
   "source": [
    "Given a nested tuple. write a program to modify the element in  a list which corresponding  value is 101 inside a following tuple."
   ]
  },
  {
   "cell_type": "code",
   "execution_count": 3,
   "id": "ccecd154",
   "metadata": {},
   "outputs": [],
   "source": [
    "# your anwer here"
   ]
  },
  {
   "cell_type": "markdown",
   "id": "14735603",
   "metadata": {},
   "source": [
    "We can see that the tuples are not is immune as we expected :)"
   ]
  },
  {
   "cell_type": "markdown",
   "id": "36b609b4",
   "metadata": {},
   "source": [
    "## Common Tuple operation"
   ]
  },
  {
   "cell_type": "markdown",
   "id": "58f5d6e5",
   "metadata": {},
   "source": [
    "### Concatenation"
   ]
  },
  {
   "cell_type": "code",
   "execution_count": 33,
   "id": "74c17374",
   "metadata": {},
   "outputs": [
    {
     "data": {
      "text/plain": [
       "[1, 2.0, 'hi', 3, (6, 7)]"
      ]
     },
     "execution_count": 33,
     "metadata": {},
     "output_type": "execute_result"
    }
   ],
   "source": [
    "tuple_1 = [1, 2.0, 'hi']\n",
    "tuple_2 = [3, (6, 7)]\n",
    "combination = tuple_1 + tuple_2\n",
    "combination"
   ]
  },
  {
   "cell_type": "markdown",
   "id": "fb405e60",
   "metadata": {},
   "source": [
    "What's the difference with extend?"
   ]
  },
  {
   "cell_type": "markdown",
   "id": "d3fa8c14",
   "metadata": {},
   "source": [
    "extend is inplace"
   ]
  },
  {
   "cell_type": "code",
   "execution_count": 34,
   "id": "0db98ef2",
   "metadata": {},
   "outputs": [
    {
     "data": {
      "text/plain": [
       "([1, 2.0, 'hi'], [3, (6, 7)])"
      ]
     },
     "execution_count": 34,
     "metadata": {},
     "output_type": "execute_result"
    }
   ],
   "source": [
    "tuple_1, tuple_2"
   ]
  },
  {
   "cell_type": "code",
   "execution_count": 35,
   "id": "509e675c",
   "metadata": {},
   "outputs": [],
   "source": [
    "tuple_1.extend(tuple_2)"
   ]
  },
  {
   "cell_type": "code",
   "execution_count": 36,
   "id": "7ec69d33",
   "metadata": {},
   "outputs": [
    {
     "data": {
      "text/plain": [
       "[1, 2.0, 'hi', 3, (6, 7), 3, (6, 7)]"
      ]
     },
     "execution_count": 36,
     "metadata": {},
     "output_type": "execute_result"
    }
   ],
   "source": [
    "tuple_1 + tuple_2"
   ]
  },
  {
   "cell_type": "markdown",
   "id": "d7f7fdca",
   "metadata": {},
   "source": [
    "### Replication"
   ]
  },
  {
   "cell_type": "code",
   "execution_count": 37,
   "id": "004d23bc",
   "metadata": {},
   "outputs": [
    {
     "data": {
      "text/plain": [
       "(None, None, None, None, None, None, None, None, None, None)"
      ]
     },
     "execution_count": 37,
     "metadata": {},
     "output_type": "execute_result"
    }
   ],
   "source": [
    "# A tuple of 10 None values\n",
    "none_tuple = (None,) * 10\n",
    "none_tuple"
   ]
  },
  {
   "cell_type": "code",
   "execution_count": 38,
   "id": "70274240",
   "metadata": {},
   "outputs": [
    {
     "ename": "TypeError",
     "evalue": "unsupported operand type(s) for *: 'NoneType' and 'int'",
     "output_type": "error",
     "traceback": [
      "\u001b[0;31m---------------------------------------------------------------------------\u001b[0m",
      "\u001b[0;31mTypeError\u001b[0m                                 Traceback (most recent call last)",
      "Cell \u001b[0;32mIn[38], line 2\u001b[0m\n\u001b[1;32m      1\u001b[0m \u001b[38;5;66;03m# A tuple of 10 None values - take care to use comma\u001b[39;00m\n\u001b[0;32m----> 2\u001b[0m none_tuple \u001b[38;5;241m=\u001b[39m (\u001b[38;5;28;01mNone\u001b[39;00m) \u001b[38;5;241m*\u001b[39m \u001b[38;5;241m10\u001b[39m\n\u001b[1;32m      3\u001b[0m none_tuple\n",
      "\u001b[0;31mTypeError\u001b[0m: unsupported operand type(s) for *: 'NoneType' and 'int'"
     ]
    }
   ],
   "source": [
    "# A tuple of 10 None values - take care to use comma\n",
    "none_tuple = (None) * 10\n",
    "none_tuple"
   ]
  },
  {
   "cell_type": "markdown",
   "id": "c16967c0",
   "metadata": {},
   "source": [
    "### Membership testing"
   ]
  },
  {
   "cell_type": "code",
   "execution_count": 39,
   "id": "54c5f4b9",
   "metadata": {},
   "outputs": [],
   "source": [
    "products =  ('laptop', 'iphone', 'mouse', 'keyboard', 'earbuds', 'laptop', 'iwatch')"
   ]
  },
  {
   "cell_type": "code",
   "execution_count": 40,
   "id": "f5d1815c",
   "metadata": {},
   "outputs": [
    {
     "data": {
      "text/plain": [
       "True"
      ]
     },
     "execution_count": 40,
     "metadata": {},
     "output_type": "execute_result"
    }
   ],
   "source": [
    "'iphone' in products"
   ]
  },
  {
   "cell_type": "code",
   "execution_count": 41,
   "id": "2bf1082f",
   "metadata": {},
   "outputs": [
    {
     "data": {
      "text/plain": [
       "True"
      ]
     },
     "execution_count": 41,
     "metadata": {},
     "output_type": "execute_result"
    }
   ],
   "source": [
    "'ipad' not in products"
   ]
  },
  {
   "cell_type": "markdown",
   "id": "14bf5ee4",
   "metadata": {},
   "source": [
    "### Finding the index of element"
   ]
  },
  {
   "cell_type": "code",
   "execution_count": 42,
   "id": "4f6e951c",
   "metadata": {},
   "outputs": [
    {
     "data": {
      "text/plain": [
       "1"
      ]
     },
     "execution_count": 42,
     "metadata": {},
     "output_type": "execute_result"
    }
   ],
   "source": [
    "products.index('iphone')"
   ]
  },
  {
   "cell_type": "code",
   "execution_count": 43,
   "id": "a2718a9c",
   "metadata": {},
   "outputs": [
    {
     "ename": "ValueError",
     "evalue": "tuple.index(x): x not in tuple",
     "output_type": "error",
     "traceback": [
      "\u001b[0;31m---------------------------------------------------------------------------\u001b[0m",
      "\u001b[0;31mValueError\u001b[0m                                Traceback (most recent call last)",
      "Cell \u001b[0;32mIn[43], line 1\u001b[0m\n\u001b[0;32m----> 1\u001b[0m products\u001b[38;5;241m.\u001b[39mindex(\u001b[38;5;124m'\u001b[39m\u001b[38;5;124mipad\u001b[39m\u001b[38;5;124m'\u001b[39m)\n",
      "\u001b[0;31mValueError\u001b[0m: tuple.index(x): x not in tuple"
     ]
    }
   ],
   "source": [
    "products.index('ipad')"
   ]
  },
  {
   "cell_type": "markdown",
   "id": "e866ba74",
   "metadata": {},
   "source": [
    "### Count number of occurence of an element in tuple"
   ]
  },
  {
   "cell_type": "code",
   "execution_count": 44,
   "id": "c26df48e",
   "metadata": {},
   "outputs": [
    {
     "data": {
      "text/plain": [
       "2"
      ]
     },
     "execution_count": 44,
     "metadata": {},
     "output_type": "execute_result"
    }
   ],
   "source": [
    "products.count('laptop')"
   ]
  },
  {
   "cell_type": "code",
   "execution_count": 45,
   "id": "428fbc30",
   "metadata": {},
   "outputs": [
    {
     "data": {
      "text/plain": [
       "0"
      ]
     },
     "execution_count": 45,
     "metadata": {},
     "output_type": "execute_result"
    }
   ],
   "source": [
    "products.count('ipad')"
   ]
  },
  {
   "cell_type": "markdown",
   "id": "bad14003",
   "metadata": {},
   "source": [
    "### Reversing the tuple"
   ]
  },
  {
   "cell_type": "markdown",
   "id": "224eef10",
   "metadata": {},
   "source": [
    "Tuples also do not have a `.reverse()` method and you can use the built-in `reversed()` function to reverse a tuple and return a new tuple with the reversed elements:"
   ]
  },
  {
   "cell_type": "code",
   "execution_count": 46,
   "id": "ec2c2f14",
   "metadata": {},
   "outputs": [
    {
     "ename": "AttributeError",
     "evalue": "'tuple' object has no attribute 'reverse'",
     "output_type": "error",
     "traceback": [
      "\u001b[0;31m---------------------------------------------------------------------------\u001b[0m",
      "\u001b[0;31mAttributeError\u001b[0m                            Traceback (most recent call last)",
      "Cell \u001b[0;32mIn[46], line 1\u001b[0m\n\u001b[0;32m----> 1\u001b[0m products\u001b[38;5;241m.\u001b[39mreverse()\n",
      "\u001b[0;31mAttributeError\u001b[0m: 'tuple' object has no attribute 'reverse'"
     ]
    }
   ],
   "source": [
    "products.reverse()"
   ]
  },
  {
   "cell_type": "code",
   "execution_count": 47,
   "id": "4026e300",
   "metadata": {},
   "outputs": [
    {
     "data": {
      "text/plain": [
       "<reversed at 0x7f8c33862800>"
      ]
     },
     "execution_count": 47,
     "metadata": {},
     "output_type": "execute_result"
    }
   ],
   "source": [
    "# it returns iterator\n",
    "reversed(products)"
   ]
  },
  {
   "cell_type": "code",
   "execution_count": 48,
   "id": "c380c31c",
   "metadata": {},
   "outputs": [
    {
     "data": {
      "text/plain": [
       "('iwatch', 'laptop', 'earbuds', 'keyboard', 'mouse', 'iphone', 'laptop')"
      ]
     },
     "execution_count": 48,
     "metadata": {},
     "output_type": "execute_result"
    }
   ],
   "source": [
    "tuple(reversed(products))"
   ]
  },
  {
   "cell_type": "markdown",
   "id": "3f1b1bd8",
   "metadata": {},
   "source": [
    "### sorting tuple"
   ]
  },
  {
   "cell_type": "markdown",
   "id": "ece9100e",
   "metadata": {},
   "source": [
    "Tuples do not have a `.sort()` method like lists do since they are immutable. However, you can use the built-in `sorted()` function to sort a tuple and return a new tuple with the sorted elements:"
   ]
  },
  {
   "cell_type": "code",
   "execution_count": 49,
   "id": "3dcbc709",
   "metadata": {},
   "outputs": [
    {
     "ename": "AttributeError",
     "evalue": "'tuple' object has no attribute 'sort'",
     "output_type": "error",
     "traceback": [
      "\u001b[0;31m---------------------------------------------------------------------------\u001b[0m",
      "\u001b[0;31mAttributeError\u001b[0m                            Traceback (most recent call last)",
      "Cell \u001b[0;32mIn[49], line 1\u001b[0m\n\u001b[0;32m----> 1\u001b[0m products\u001b[38;5;241m.\u001b[39msort()\n",
      "\u001b[0;31mAttributeError\u001b[0m: 'tuple' object has no attribute 'sort'"
     ]
    }
   ],
   "source": [
    "products.sort()"
   ]
  },
  {
   "cell_type": "code",
   "execution_count": 50,
   "id": "debf01e8",
   "metadata": {},
   "outputs": [
    {
     "data": {
      "text/plain": [
       "(1, 2, 5, 3, 5, 7, 4)"
      ]
     },
     "execution_count": 50,
     "metadata": {},
     "output_type": "execute_result"
    }
   ],
   "source": [
    "integers = 1, 2, 5, 3, 5, 7, 4\n",
    "integers"
   ]
  },
  {
   "cell_type": "code",
   "execution_count": 51,
   "id": "a610f38b",
   "metadata": {},
   "outputs": [
    {
     "data": {
      "text/plain": [
       "[1, 2, 3, 4, 5, 5, 7]"
      ]
     },
     "execution_count": 51,
     "metadata": {},
     "output_type": "execute_result"
    }
   ],
   "source": [
    "sorted(integers)"
   ]
  },
  {
   "cell_type": "code",
   "execution_count": 52,
   "id": "79fe8ddb",
   "metadata": {},
   "outputs": [
    {
     "data": {
      "text/plain": [
       "list"
      ]
     },
     "execution_count": 52,
     "metadata": {},
     "output_type": "execute_result"
    }
   ],
   "source": [
    "type(sorted(integers))"
   ]
  },
  {
   "cell_type": "markdown",
   "id": "92faf7b5",
   "metadata": {},
   "source": [
    "### Copy a tuple"
   ]
  },
  {
   "cell_type": "code",
   "execution_count": 53,
   "id": "1be4691b",
   "metadata": {},
   "outputs": [
    {
     "data": {
      "text/plain": [
       "((1, 2, 3, 4), (1, 2, 3, 4))"
      ]
     },
     "execution_count": 53,
     "metadata": {},
     "output_type": "execute_result"
    }
   ],
   "source": [
    "tuple_1 = (1, 2, 3, 4)\n",
    "tuple_2 = tuple_1\n",
    "tuple_1, tuple_2"
   ]
  },
  {
   "cell_type": "code",
   "execution_count": 54,
   "id": "84c590e6",
   "metadata": {},
   "outputs": [
    {
     "data": {
      "text/plain": [
       "True"
      ]
     },
     "execution_count": 54,
     "metadata": {},
     "output_type": "execute_result"
    }
   ],
   "source": [
    "id(tuple_1) == id(tuple_2)"
   ]
  },
  {
   "cell_type": "code",
   "execution_count": 55,
   "id": "33923b4e",
   "metadata": {},
   "outputs": [],
   "source": [
    "tuple_2 = tuple_1[:]"
   ]
  },
  {
   "cell_type": "code",
   "execution_count": 56,
   "id": "56a9c00c",
   "metadata": {},
   "outputs": [
    {
     "data": {
      "text/plain": [
       "True"
      ]
     },
     "execution_count": 56,
     "metadata": {},
     "output_type": "execute_result"
    }
   ],
   "source": [
    "id(tuple_1) == id(tuple_2)"
   ]
  },
  {
   "cell_type": "code",
   "execution_count": 57,
   "id": "440350bc",
   "metadata": {},
   "outputs": [
    {
     "ename": "AttributeError",
     "evalue": "'tuple' object has no attribute 'copy'",
     "output_type": "error",
     "traceback": [
      "\u001b[0;31m---------------------------------------------------------------------------\u001b[0m",
      "\u001b[0;31mAttributeError\u001b[0m                            Traceback (most recent call last)",
      "Cell \u001b[0;32mIn[57], line 1\u001b[0m\n\u001b[0;32m----> 1\u001b[0m tuple_1\u001b[38;5;241m.\u001b[39mcopy()\n",
      "\u001b[0;31mAttributeError\u001b[0m: 'tuple' object has no attribute 'copy'"
     ]
    }
   ],
   "source": [
    "tuple_1.copy()"
   ]
  },
  {
   "cell_type": "markdown",
   "id": "69c0cd81",
   "metadata": {},
   "source": [
    "## Exercise"
   ]
  },
  {
   "cell_type": "markdown",
   "id": "caa951d4",
   "metadata": {},
   "source": [
    "Writes a program to sort a tuple of tuples"
   ]
  },
  {
   "cell_type": "code",
   "execution_count": 4,
   "id": "9fe5c54e",
   "metadata": {},
   "outputs": [],
   "source": [
    "# your anwer here"
   ]
  },
  {
   "cell_type": "markdown",
   "id": "a0cd8413",
   "metadata": {},
   "source": [
    "modify above code to sort based on second element."
   ]
  },
  {
   "cell_type": "code",
   "execution_count": 5,
   "id": "7128ee4c",
   "metadata": {},
   "outputs": [],
   "source": [
    "# your anwer here"
   ]
  }
 ],
 "metadata": {
  "kernelspec": {
   "display_name": "Python 3 (ipykernel)",
   "language": "python",
   "name": "python3"
  },
  "language_info": {
   "codemirror_mode": {
    "name": "ipython",
    "version": 3
   },
   "file_extension": ".py",
   "mimetype": "text/x-python",
   "name": "python",
   "nbconvert_exporter": "python",
   "pygments_lexer": "ipython3",
   "version": "3.11.4"
  }
 },
 "nbformat": 4,
 "nbformat_minor": 5
}
