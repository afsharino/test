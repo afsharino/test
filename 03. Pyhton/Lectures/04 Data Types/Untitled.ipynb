{
 "cells": [
  {
   "cell_type": "markdown",
   "id": "59f1db1e",
   "metadata": {},
   "source": [
    "# some images"
   ]
  },
  {
   "cell_type": "markdown",
   "id": "788e9718",
   "metadata": {},
   "source": [
    "A mapping object maps hashable values to arbitrary objects. Mappings are mutable objects. There is currently only one standard mapping type, the dictionary. "
   ]
  },
  {
   "cell_type": "markdown",
   "id": "c293b71e",
   "metadata": {},
   "source": [
    "## Creation\n",
    "- class dict(**kwargs)\n",
    "\n",
    "- class dict(mapping, **kwargs)\n",
    "\n",
    "- class dict(iterable, **kwargs)\n",
    "\n",
    "Return a new dictionary initialized from an optional positional argument and a possibly empty set of keyword arguments.\n",
    "\n",
    "Dictionaries can be created by several means:\n",
    "- Use a comma-separated list of key: value pairs within braces: {'jack': 4098, 'sjoerd': 4127} or {4098: 'jack', 4127: 'sjoerd'}\n",
    "\n",
    "- Use a dict comprehension: {}, {x: x ** 2 for x in range(10)}\n",
    "\n",
    "- Use the type constructor: dict(), dict([('foo', 100), ('bar', 200)]), dict(foo=100, bar=200)\n",
    "\n",
    " Otherwise, the positional argument must be an iterable object. Each item in the iterable must itself be an iterable with exactly two objects. The first object of each item becomes a key in the new dictionary, and the second object the corresponding value. If a key occurs more than once, the last value for that key becomes the corresponding value in the new dictionary.\n",
    "\n",
    " If a key being added is already present, the value from the keyword argument replaces the value from the positional argument."
   ]
  },
  {
   "cell_type": "code",
   "execution_count": 20,
   "id": "0a5b7e6a",
   "metadata": {},
   "outputs": [],
   "source": [
    "# A dictionary with integer keys and string values\n",
    "student_grades = {1: 'A', 2: 'B', 3: 'C'}"
   ]
  },
  {
   "cell_type": "code",
   "execution_count": 21,
   "id": "1d7f773a",
   "metadata": {},
   "outputs": [],
   "source": [
    "# A dictionary with mixed key types\n",
    "person_info = {'name': 'Alice', 'age': 30, 1: ['pizza', 'pasta']}"
   ]
  },
  {
   "cell_type": "code",
   "execution_count": 22,
   "id": "bd378e90",
   "metadata": {},
   "outputs": [
    {
     "data": {
      "text/plain": [
       "{0: 0, 1: 2, 2: 4, 3: 6, 4: 8, 5: 10, 6: 12, 7: 14, 8: 16, 9: 18}"
      ]
     },
     "execution_count": 22,
     "metadata": {},
     "output_type": "execute_result"
    }
   ],
   "source": [
    "# Dictionary\n",
    "{x: x * 2 for x in range(10)}"
   ]
  },
  {
   "cell_type": "markdown",
   "id": "6b374e02",
   "metadata": {},
   "source": [
    "If no positional argument is given, an empty dictionary is created."
   ]
  },
  {
   "cell_type": "code",
   "execution_count": 10,
   "id": "2195fb9d",
   "metadata": {},
   "outputs": [
    {
     "data": {
      "text/plain": [
       "{}"
      ]
     },
     "execution_count": 10,
     "metadata": {},
     "output_type": "execute_result"
    }
   ],
   "source": [
    "dict()"
   ]
  },
  {
   "cell_type": "markdown",
   "id": "6e6cb63f",
   "metadata": {},
   "source": [
    "If a positional argument is given and it is a mapping object, a dictionary is created with the same key-value pairs as the mapping object."
   ]
  },
  {
   "cell_type": "code",
   "execution_count": 11,
   "id": "852669ac",
   "metadata": {},
   "outputs": [
    {
     "data": {
      "text/plain": [
       "{1: 'A', 2: 'B', 3: 'C'}"
      ]
     },
     "execution_count": 11,
     "metadata": {},
     "output_type": "execute_result"
    }
   ],
   "source": [
    "dict(student_grades)"
   ]
  },
  {
   "cell_type": "markdown",
   "id": "c272570b",
   "metadata": {},
   "source": [
    "Otherwise, the positional argument must be an iterable object. Each item in the iterable must itself be an iterable with exactly two objects. The first object of each item becomes a key in the new dictionary, and the second object the corresponding value."
   ]
  },
  {
   "cell_type": "code",
   "execution_count": 17,
   "id": "e1e704a6",
   "metadata": {},
   "outputs": [
    {
     "data": {
      "text/plain": [
       "{'foo': 100, 'bar': 200}"
      ]
     },
     "execution_count": 17,
     "metadata": {},
     "output_type": "execute_result"
    }
   ],
   "source": [
    "dict([('foo', 100), ('bar', 200)])"
   ]
  },
  {
   "cell_type": "markdown",
   "id": "6ce678f6",
   "metadata": {},
   "source": [
    "If keyword arguments are given, the keyword arguments and their values are added to the dictionary created from the positional argument."
   ]
  },
  {
   "cell_type": "code",
   "execution_count": 12,
   "id": "b090f93b",
   "metadata": {},
   "outputs": [
    {
     "data": {
      "text/plain": [
       "{1: 'A', 2: 'B', 3: 'C', 'foo': 100, 'bar': 200}"
      ]
     },
     "execution_count": 12,
     "metadata": {},
     "output_type": "execute_result"
    }
   ],
   "source": [
    "dict(student_grades, foo=100, bar=200)"
   ]
  },
  {
   "cell_type": "markdown",
   "id": "6856f1fb",
   "metadata": {},
   "source": [
    "check all above "
   ]
  },
  {
   "cell_type": "code",
   "execution_count": 36,
   "id": "dde25675",
   "metadata": {},
   "outputs": [],
   "source": [
    "a = {'one': 1, 'two': 2, 'three': 3}"
   ]
  },
  {
   "cell_type": "code",
   "execution_count": 38,
   "id": "99c2429f",
   "metadata": {},
   "outputs": [],
   "source": [
    "b = dict(one=1, two=2, three=3)"
   ]
  },
  {
   "cell_type": "code",
   "execution_count": 23,
   "id": "075687c7",
   "metadata": {
    "collapsed": true
   },
   "outputs": [
    {
     "data": {
      "text/plain": [
       "True"
      ]
     },
     "execution_count": 23,
     "metadata": {},
     "output_type": "execute_result"
    }
   ],
   "source": [
    "\n",
    "\n",
    "\n",
    "c = dict(zip(['one', 'two', 'three'], [1, 2, 3]))\n",
    "d = dict([('two', 2), ('one', 1), ('three', 3)])\n",
    "e = dict({'three': 3, 'one': 1, 'two': 2})\n",
    "f = dict({'one': 1, 'three': 3}, two=2)\n",
    "a == b == c == d == e == f"
   ]
  },
  {
   "cell_type": "code",
   "execution_count": 18,
   "id": "a5a89b84",
   "metadata": {},
   "outputs": [
    {
     "data": {
      "text/plain": [
       "{}"
      ]
     },
     "execution_count": 18,
     "metadata": {},
     "output_type": "execute_result"
    }
   ],
   "source": [
    "dict()"
   ]
  },
  {
   "cell_type": "code",
   "execution_count": 19,
   "id": "ff061f5a",
   "metadata": {},
   "outputs": [
    {
     "data": {
      "text/plain": [
       "{}"
      ]
     },
     "execution_count": 19,
     "metadata": {},
     "output_type": "execute_result"
    }
   ],
   "source": [
    "{}"
   ]
  },
  {
   "cell_type": "code",
   "execution_count": 16,
   "id": "6b005c1d",
   "metadata": {},
   "outputs": [
    {
     "data": {
      "text/plain": [
       "{'Ferdowsi': {'CS': [], 'Statistics': {}, 'mathematics': ''}}"
      ]
     },
     "execution_count": 16,
     "metadata": {},
     "output_type": "execute_result"
    }
   ],
   "source": [
    "{'Ferdowsi': {'CS': [], 'Statistics': {} , 'mathematics': ('') }}"
   ]
  },
  {
   "cell_type": "markdown",
   "id": "8896bbe5",
   "metadata": {},
   "source": [
    "## Common Built-in Functions"
   ]
  },
  {
   "cell_type": "code",
   "execution_count": 40,
   "id": "8e657d0e",
   "metadata": {},
   "outputs": [
    {
     "data": {
      "text/plain": [
       "'two'"
      ]
     },
     "execution_count": 40,
     "metadata": {},
     "output_type": "execute_result"
    }
   ],
   "source": [
    "max(c)"
   ]
  },
  {
   "cell_type": "code",
   "execution_count": 41,
   "id": "914e7f27",
   "metadata": {},
   "outputs": [
    {
     "ename": "TypeError",
     "evalue": "unsupported operand type(s) for +: 'int' and 'str'",
     "output_type": "error",
     "traceback": [
      "\u001b[0;31m---------------------------------------------------------------------------\u001b[0m",
      "\u001b[0;31mTypeError\u001b[0m                                 Traceback (most recent call last)",
      "Cell \u001b[0;32mIn[41], line 1\u001b[0m\n\u001b[0;32m----> 1\u001b[0m \u001b[38;5;28msum\u001b[39m(c)\n",
      "\u001b[0;31mTypeError\u001b[0m: unsupported operand type(s) for +: 'int' and 'str'"
     ]
    }
   ],
   "source": [
    "sum(c)"
   ]
  },
  {
   "cell_type": "markdown",
   "id": "879b108c",
   "metadata": {},
   "source": [
    "## Accessing Dictionary Values "
   ]
  },
  {
   "cell_type": "markdown",
   "id": "7d9bca0f",
   "metadata": {},
   "source": [
    "d[key]\n",
    "Return the item of d with key key. Raises a `KeyError` if key is not in the map.\n"
   ]
  },
  {
   "cell_type": "code",
   "execution_count": 49,
   "id": "8b0f3f40",
   "metadata": {},
   "outputs": [],
   "source": [
    "# Let's consider the following dictionary:\n",
    "person_info = {'name': 'Alice', 'age': 30, 'city': 'New York'}"
   ]
  },
  {
   "cell_type": "code",
   "execution_count": 50,
   "id": "69f75c95",
   "metadata": {},
   "outputs": [
    {
     "data": {
      "text/plain": [
       "'Alice'"
      ]
     },
     "execution_count": 50,
     "metadata": {},
     "output_type": "execute_result"
    }
   ],
   "source": [
    "# Accessing the value associated with the key 'name'\n",
    "person_info['name']"
   ]
  },
  {
   "cell_type": "markdown",
   "id": "78f51a3b",
   "metadata": {},
   "source": [
    "### Handling Missing Keys with .get"
   ]
  },
  {
   "cell_type": "markdown",
   "id": "8cd1b1c8",
   "metadata": {},
   "source": [
    "To avoid `KeyError` exceptions, dictionaries have a `get()` method that allows you to access values with an option to define a default value if the key is not found:\n"
   ]
  },
  {
   "cell_type": "code",
   "execution_count": 51,
   "id": "dcb16ede",
   "metadata": {},
   "outputs": [
    {
     "data": {
      "text/plain": [
       "'Not specified'"
      ]
     },
     "execution_count": 51,
     "metadata": {},
     "output_type": "execute_result"
    }
   ],
   "source": [
    "# Using get() to retrieve a value\n",
    "occupation = person_info.get('occupation', 'Not specified')\n",
    "occupation"
   ]
  },
  {
   "cell_type": "markdown",
   "id": "f9bd7fbc",
   "metadata": {},
   "source": [
    "If you use the `get()` method without a second argument and the key does not exist, it will return `None` instead of raising an error:\n"
   ]
  },
  {
   "cell_type": "code",
   "execution_count": 52,
   "id": "974dda5d",
   "metadata": {},
   "outputs": [],
   "source": [
    "hobby = person_info.get('hobby')\n",
    "hobby"
   ]
  },
  {
   "cell_type": "code",
   "execution_count": 54,
   "id": "0fd48f5f",
   "metadata": {},
   "outputs": [
    {
     "name": "stdout",
     "output_type": "stream",
     "text": [
      "None\n"
     ]
    }
   ],
   "source": [
    "print(hobby)\n",
    "# print returns None while simply typing the variable name doesn't.\n",
    "# This is because print() is a function that explicitly returns None\n",
    "# while the interpreter doesn't return anything when you simply type a variable name."
   ]
  },
  {
   "cell_type": "markdown",
   "id": "a06a3734",
   "metadata": {},
   "source": [
    "### Accessing All Keys or Values"
   ]
  },
  {
   "cell_type": "markdown",
   "id": "6ff0e0e6",
   "metadata": {},
   "source": [
    "There are times you may want to access all keys, all values, or all key-value pairs in a dictionary. Python dictionaries provide methods for these operations:\n",
    "\n",
    "- `keys()`: This method returns a new view of the dictionary's keys.\n",
    "- `values()`: This method returns a new view of the dictionary's values.\n",
    "- `items()`: This method returns a new view of the dictionary's items (key-value pairs).\n"
   ]
  },
  {
   "cell_type": "code",
   "execution_count": null,
   "id": "efbadfbb",
   "metadata": {},
   "outputs": [],
   "source": []
  }
 ],
 "metadata": {
  "kernelspec": {
   "display_name": "Python 3 (ipykernel)",
   "language": "python",
   "name": "python3"
  },
  "language_info": {
   "codemirror_mode": {
    "name": "ipython",
    "version": 3
   },
   "file_extension": ".py",
   "mimetype": "text/x-python",
   "name": "python",
   "nbconvert_exporter": "python",
   "pygments_lexer": "ipython3",
   "version": "3.11.4"
  }
 },
 "nbformat": 4,
 "nbformat_minor": 5
}
